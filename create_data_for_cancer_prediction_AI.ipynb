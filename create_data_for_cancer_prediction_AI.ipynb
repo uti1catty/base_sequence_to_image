{
  "nbformat": 4,
  "nbformat_minor": 0,
  "metadata": {
    "colab": {
      "name": "create_data_for_cancer_prediction_AI.ipynb",
      "provenance": [],
      "collapsed_sections": [],
      "toc_visible": true
    },
    "kernelspec": {
      "name": "python3",
      "display_name": "Python 3"
    },
    "language_info": {
      "name": "python"
    }
  },
  "cells": [
    {
      "cell_type": "code",
      "source": [
        "'''\n"
        "MIT License"

        "Copyright (c) 2022 uti1catty"

        "Permission is hereby granted, free of charge, to any person obtaining a copy"
        "of this software and associated documentation files (the 'Software'), to deal"
        "in the Software without restriction, including without limitation the rights"
        "to use, copy, modify, merge, publish, distribute, sublicense, and/or sell"
        "copies of the Software, and to permit persons to whom the Software is"
        "furnished to do so, subject to the following conditions:"

        "The above copyright notice and this permission notice shall be included in all"
        "copies or substantial portions of the Software."

        "THE SOFTWARE IS PROVIDED 'AS IS', WITHOUT WARRANTY OF ANY KIND, EXPRESS OR"
        "IMPLIED, INCLUDING BUT NOT LIMITED TO THE WARRANTIES OF MERCHANTABILITY,"
        "FITNESS FOR A PARTICULAR PURPOSE AND NONINFRINGEMENT. IN NO EVENT SHALL THE"
        "AUTHORS OR COPYRIGHT HOLDERS BE LIABLE FOR ANY CLAIM, DAMAGES OR OTHER"
        "LIABILITY, WHETHER IN AN ACTION OF CONTRACT, TORT OR OTHERWISE, ARISING FROM,"
        "OUT OF OR IN CONNECTION WITH THE SOFTWARE OR THE USE OR OTHER DEALINGS IN THE"
        "SOFTWARE."
        "'''\n"
        "# 학습데이터: 암에 걸린 사람의 일부 염기서열 \n",
        "import numpy as np\n",
        "import cv2\n",
        "from PIL import Image\n",
        "\n",
        "#Code wrote by uti1catty\n",
        "\n",
        "red = [255, 0, 0]\n",
        "green = [0, 255, 0]\n",
        "blue = [0, 0, 255]\n",
        "black = [0, 0, 0]\n",
        "\n",
        "np.random.seed(0)\n",
        "'''\n",
        "input\n",
        "sequences: shape(seq_num, seq_len) sequences\n",
        "dir_path: string type dir_path\n",
        "img_name: string type img_name\n",
        "output\n",
        "saving color image of each sequence\n",
        "'''\n",
        "def sequences_to_image(sequences, dir_path, img_name):\n",
        "    #transform the every bases in every sequences to color (RGB and Black)\n",
        "    sequence_color = np.zeros((sequences.shape[0], sequences.shape[1], 3))\n",
        "    sequence_color[sequences == 'A'] = red\n",
        "    sequence_color[sequences == 'T'] = green\n",
        "    sequence_color[sequences == 'G'] = blue\n",
        "    sequence_color[sequences == 'C'] = black\n",
        "\n",
        "    #print(sequence_color)\n",
        "\n",
        "    # make each sequences to image file\n",
        "    for i in range(sequence_color.shape[0]):\n",
        "        one_sequence = np.array(sequence_color[i], np.uint8)\n",
        "        #print(one_sequence.shape)\n",
        "        one_sequence = np.reshape(one_sequence, (1, one_sequence.shape[0], one_sequence.shape[1]))\n",
        "        im = Image.fromarray(one_sequence)\n",
        "        im.save(dir_path + \"/\" + img_name + \"_{}.png\".format(i))\n",
        "\n",
        "\n",
        "# 3~6 AATG, AATC, AGTG\n",
        "base = ['A', 'T', 'G', 'C']\n",
        "\n",
        "\n",
        "'''user defining variables'''\n",
        "cancer_candidate = [['A','A','T','G'], ['A','A','T','C'], ['A','G','T','G']]\n",
        "#cancer_seq_len = cancer_candidate.shape\n",
        "cancer_sequence_num = 180\n",
        "normal_sequence_num = 180\n",
        "cancer_start_idx = 3\n",
        "sequence_length = 20\n",
        "'''user defining variables finished'''\n",
        "\n",
        "'''cancer'''\n",
        "'''cancer step 1. Make N sequences'''\n",
        "cancer_sequences = []\n",
        "#make 180 cancer_sequence\n",
        "for idx in range(cancer_sequence_num):\n",
        "    cancer_point = cancer_candidate[idx % len(cancer_candidate)] #cancer point will rotate 3 candidate\n",
        "    sequence = []\n",
        "    for j in range(16):\n",
        "        sequence.append(base[np.random.randint(4)]) #pick 16 random base\n",
        "    cancer_sequence = sequence[:cancer_start_idx] + cancer_point + sequence[cancer_start_idx:] #make len=20 cancer_sequence\n",
        "    cancer_sequences.append(cancer_sequence)\n",
        "    #print(cancer_sequence)\n",
        "\n",
        "#make cancer_sequences\n",
        "cancer_sequences = np.array(cancer_sequences)\n",
        "\n",
        "print('cancer_sequences shape: ', cancer_sequences.shape)\n",
        "print('cancer_sequences:\\n', cancer_sequences)\n",
        "\n",
        "'''cancer step 2. Make each sequence to image'''\n",
        "#saving color image of each cancer sequence\n",
        "sequences_to_image(cancer_sequences, \"cancer_folder\", \"cancer_seq\")\n"
      ],
      "metadata": {
        "colab": {
          "base_uri": "https://localhost:8080/"
        },
        "id": "geW9XPxjmQCD",
        "outputId": "7e74497e-0f37-43cf-a133-182c40a02dcd"
      },
      "execution_count": 7,
      "outputs": [
        {
          "output_type": "stream",
          "name": "stdout",
          "text": [
            "cancer_sequences shape:  (180, 20)\n",
            "cancer_sequences:\n",
            " [['A' 'C' 'T' ... 'C' 'G' 'A']\n",
            " ['A' 'A' 'G' ... 'A' 'T' 'A']\n",
            " ['C' 'A' 'C' ... 'T' 'C' 'C']\n",
            " ...\n",
            " ['C' 'T' 'G' ... 'C' 'G' 'A']\n",
            " ['T' 'T' 'G' ... 'T' 'G' 'C']\n",
            " ['G' 'C' 'T' ... 'G' 'A' 'A']]\n"
          ]
        }
      ]
    },
    {
      "cell_type": "code",
      "source": [
        "# 학습데이터: 암에 걸리지 않은 사람(정상)의 일부 염기서열 \n",
        "'''normal'''\n",

        "normal_sequences = []\n",
        "#make 180 normal sequences\n",
        "while len(normal_sequences) < normal_sequence_num:\n",
        "    sequence = []\n",
        "\n",
        "    # make 'sequence_length' length random sequence\n",
        "    for i in range(sequence_length):\n",
        "        sequence.append(base[np.random.randint(4)])\n",
        "\n",
        "    #if produced sequence is cancer sequence, ignore it.\n",
        "    if sequence[3:7] in cancer_candidate:\n",
        "        continue\n",
        "    \n",
        "    normal_sequences.append(sequence)\n",
        "\n",
        "normal_sequences = np.array(normal_sequences)\n",
        "\n",
        "print('normal_sequences shape: ', normal_sequences.shape)\n",
        "print('normal_sequences:\\n', normal_sequences)\n",
        "\n",
        "'''normal step 2. Make each sequence to image'''\n",
        "#saving color image of each cancer sequence\n",
        "sequences_to_image(normal_sequences, \"normal_folder\", \"normal_seq\")"
      ],
      "metadata": {
        "colab": {
          "base_uri": "https://localhost:8080/"
        },
        "id": "CfcUN_GbuKd3",
        "outputId": "a77fb4f1-7da6-41e7-ccb7-bdffdb9d0580"
      },
      "execution_count": 9,
      "outputs": [
        {
          "output_type": "stream",
          "name": "stdout",
          "text": [
            "normal_sequences shape:  (180, 20)\n",
            "normal_sequences:\n",
            " [['G' 'G' 'C' ... 'C' 'A' 'A']\n",
            " ['A' 'A' 'T' ... 'A' 'G' 'A']\n",
            " ['G' 'G' 'C' ... 'C' 'T' 'G']\n",
            " ...\n",
            " ['G' 'C' 'C' ... 'A' 'A' 'T']\n",
            " ['C' 'T' 'T' ... 'T' 'T' 'C']\n",
            " ['T' 'T' 'G' ... 'G' 'A' 'T']]\n"
          ]
        }
      ]
    },
    {
      "cell_type": "code",
      "source": [
        "red = [255, 0, 0]\n",
        "green = [0, 255, 0]\n",
        "blue = [0, 0, 255]\n",
        "black = [0, 0, 0]\n",
        "\n",
        "def sequences_to_image(sequences, dir_path, img_name):\n",
        "    #transform the every bases in every sequences to color (RGB and Black)\n",
        "    sequence_color = np.zeros((sequences.shape[0], sequences.shape[1], 3))\n",
        "    sequence_color[sequences == 'A'] = red\n",
        "    sequence_color[sequences == 'T'] = green\n",
        "    sequence_color[sequences == 'G'] = blue\n",
        "    sequence_color[sequences == 'C'] = black\n",
        "\n",
        "    #print(sequence_color)\n",
        "\n",
        "    # make each sequences to image file\n",
        "    for i in range(sequence_color.shape[0]):\n",
        "        one_sequence = np.array(sequence_color[i], np.uint8)\n",
        "        #print(one_sequence.shape)\n",
        "        one_sequence = np.reshape(one_sequence, (1, one_sequence.shape[0], one_sequence.shape[1]))\n",
        "        im = Image.fromarray(one_sequence)\n",
        "        im.save(dir_path + \"/\" + img_name + \"_{}.png\".format(i))\n",
        "\n",
        "\n",
        "sequences_str = ['ATAAGCTAGATTCGGATACG', 'ATACCATGCAACCGGTAGCA']\n",
        "\n",
        "sequences_list = []\n",
        "for i in range(len(sequences_str)):\n",
        "    #print(np.array(sequences_str[i]))\n",
        "\n",
        "    sequences_list.extend([char for char in sequences_str[i]])\n",
        "sequences_list = np.array(sequences_list).reshape((-1, 20))\n",
        "print(sequences_list)\n",
        "\n",
        "sequences_to_image(sequences_list, 'test_dir', 'test_img') "
      ],
      "metadata": {
        "colab": {
          "base_uri": "https://localhost:8080/"
        },
        "id": "TjPA8JQcMj7E",
        "outputId": "02f7b02b-2e0a-4cea-f1ec-1c37bacff433"
      },
      "execution_count": 11,
      "outputs": [
        {
          "output_type": "stream",
          "name": "stdout",
          "text": [
            "[['A' 'T' 'A' 'A' 'G' 'C' 'T' 'A' 'G' 'A' 'T' 'T' 'C' 'G' 'G' 'A' 'T' 'A'\n",
            "  'C' 'G']\n",
            " ['A' 'T' 'A' 'C' 'C' 'A' 'T' 'G' 'C' 'A' 'A' 'C' 'C' 'G' 'G' 'T' 'A' 'G'\n",
            "  'C' 'A']]\n"
          ]
        }
      ]
    }
  ]
}
